{
 "cells": [
  {
   "cell_type": "markdown",
   "metadata": {},
   "source": [
    "# CNN multichannel single class classification"
   ]
  },
  {
   "cell_type": "code",
   "execution_count": 1,
   "metadata": {},
   "outputs": [],
   "source": [
    "import matplotlib.pyplot as plt\n",
    "import numpy as np\n",
    "import os\n",
    "from natsort import natsorted\n",
    "from torch.utils.data import Dataset, DataLoader, random_split\n",
    "import torch\n",
    "import torch.nn as nn\n",
    "import torch.nn.functional as F\n",
    "from sklearn.preprocessing import StandardScaler\n",
    "from sklearn.model_selection import StratifiedShuffleSplit\n",
    "from sklearn.metrics import confusion_matrix\n",
    "from sklearn.metrics import classification_report\n",
    "from sklearn.metrics import ConfusionMatrixDisplay"
   ]
  },
  {
   "cell_type": "markdown",
   "metadata": {},
   "source": [
    "### Data loading"
   ]
  },
  {
   "cell_type": "code",
   "execution_count": 2,
   "metadata": {},
   "outputs": [
    {
     "name": "stdout",
     "output_type": "stream",
     "text": [
      "['CE.txt', 'CP.txt', 'EPS1.txt', 'FS1.txt', 'FS2.txt', 'PS1.txt', 'PS2.txt', 'PS3.txt', 'PS4.txt', 'PS5.txt', 'PS6.txt', 'SE.txt', 'TS1.txt', 'TS2.txt', 'TS3.txt', 'TS4.txt', 'VS1.txt', 'profile.txt']\n"
     ]
    }
   ],
   "source": [
    "data_dir = '<path-to-dataset>'\n",
    "\n",
    "file_list = os.listdir(data_dir)\n",
    "file_list.remove('documentation.txt')\n",
    "file_list.remove('description.txt')\n",
    "file_list = natsorted(file_list)\n",
    "\n",
    "print(file_list)"
   ]
  },
  {
   "cell_type": "code",
   "execution_count": 3,
   "metadata": {},
   "outputs": [
    {
     "name": "stdout",
     "output_type": "stream",
     "text": [
      "CE.txt\n",
      "CP.txt\n",
      "EPS1.txt\n",
      "FS1.txt\n",
      "FS2.txt\n",
      "PS1.txt\n",
      "PS2.txt\n",
      "PS3.txt\n",
      "PS4.txt\n",
      "PS5.txt\n",
      "PS6.txt\n",
      "SE.txt\n",
      "TS1.txt\n",
      "TS2.txt\n",
      "TS3.txt\n",
      "TS4.txt\n",
      "VS1.txt\n",
      "profile.txt\n"
     ]
    }
   ],
   "source": [
    "data = {}\n",
    "\n",
    "for file in file_list:\n",
    "    print(file)\n",
    "    data[file[:-4]] = np.loadtxt(os.path.join(data_dir, file))"
   ]
  },
  {
   "cell_type": "markdown",
   "metadata": {},
   "source": [
    "### Class labels preparation"
   ]
  },
  {
   "cell_type": "code",
   "execution_count": 4,
   "metadata": {},
   "outputs": [
    {
     "data": {
      "text/plain": [
       "array([[  3., 100.,   0., 130.,   1.],\n",
       "       [  3., 100.,   0., 130.,   1.],\n",
       "       [  3., 100.,   0., 130.,   1.],\n",
       "       ...,\n",
       "       [100., 100.,   0.,  90.,   0.],\n",
       "       [100., 100.,   0.,  90.,   0.],\n",
       "       [100., 100.,   0.,  90.,   0.]])"
      ]
     },
     "execution_count": 4,
     "metadata": {},
     "output_type": "execute_result"
    }
   ],
   "source": [
    "# extract target conditions\n",
    "for i in range(data['profile'].shape[1]):\n",
    "    label_i = data['profile'][:,i].astype(int)\n",
    "    for j,val in enumerate(np.sort(np.unique(label_i))):\n",
    "        label_i[label_i==val] = j\n",
    "    data[f'condition_{i}'] = label_i\n",
    "data.pop('profile', None)"
   ]
  },
  {
   "cell_type": "code",
   "execution_count": 5,
   "metadata": {},
   "outputs": [
    {
     "data": {
      "text/plain": [
       "{'condition_0': {0: 732, 1: 732, 2: 741},\n",
       " 'condition_1': {0: 360, 1: 360, 2: 360, 3: 1125},\n",
       " 'condition_2': {0: 1221, 1: 492, 2: 492},\n",
       " 'condition_3': {0: 808, 1: 399, 2: 399, 3: 599}}"
      ]
     },
     "execution_count": 5,
     "metadata": {},
     "output_type": "execute_result"
    }
   ],
   "source": [
    "# class imbalance\n",
    "d_classes = {}\n",
    "for i in range(4):\n",
    "    label_i = f'condition_{i}'\n",
    "    d_classes[label_i] = {}\n",
    "    val_i = data[label_i]\n",
    "    uniques, counts = np.unique(val_i, return_counts=True)\n",
    "    for (unique,count) in zip(uniques, counts):\n",
    "        d_classes[label_i][unique]=count\n",
    "d_classes"
   ]
  },
  {
   "cell_type": "markdown",
   "metadata": {},
   "source": [
    "### Dataset preparation\n",
    "For simplicity here only channels `'PS1', 'PS2','PS3', 'PS4','PS5', 'PS6'` are used because they have the same sequence length of 6000"
   ]
  },
  {
   "cell_type": "code",
   "execution_count": 6,
   "metadata": {},
   "outputs": [],
   "source": [
    "channels = ['PS1', 'PS2','PS3', 'PS4','PS5', 'PS6']\n",
    "condition = 'condition_0'\n",
    "\n",
    "X = np.concatenate([np.expand_dims(data[channel],axis=2) for channel in channels], axis=2)\n",
    "y = data[condition]\n",
    "\n",
    "sss = StratifiedShuffleSplit(test_size=0.1, random_state=40)\n",
    "\n",
    "for train_index,test_index in sss.split(X,y):\n",
    "    X_train = X[train_index]\n",
    "    y_train = y[train_index]\n",
    "    X_test = X[test_index]\n",
    "    y_test = y[test_index]\n",
    "    \n",
    "scaler = StandardScaler().fit(X_train.reshape(-1,2,1).squeeze())\n",
    "X_train = np.reshape(scaler.transform(X_train.reshape(-1,2,1).squeeze()), (len(X_train), len(channels), -1))\n",
    "X_test = np.reshape(scaler.transform(X_test.reshape(-1,2,1).squeeze()), (len(X_test), len(channels), -1))"
   ]
  },
  {
   "cell_type": "code",
   "execution_count": 7,
   "metadata": {},
   "outputs": [
    {
     "data": {
      "text/plain": [
       "(1984, 6, 6000)"
      ]
     },
     "execution_count": 7,
     "metadata": {},
     "output_type": "execute_result"
    }
   ],
   "source": [
    "X_train.shape"
   ]
  },
  {
   "cell_type": "markdown",
   "metadata": {},
   "source": [
    "### Dataset and Dataloader"
   ]
  },
  {
   "cell_type": "code",
   "execution_count": 8,
   "metadata": {},
   "outputs": [],
   "source": [
    "class PumpDataset(Dataset):\n",
    "    \n",
    "    def __init__(self, X, y):\n",
    "        self.X = X\n",
    "        self.y = y\n",
    "                \n",
    "    def __len__(self):\n",
    "        return len(self.X)\n",
    "    \n",
    "    def __getitem__(self, idx):\n",
    "        sequence = self.X[idx]\n",
    "        label = self.y[idx]    \n",
    "        sample = {'sequence': torch.tensor(sequence, dtype=torch.float),\n",
    "                  'label': torch.tensor(label, dtype=torch.long)}\n",
    "        \n",
    "        return sample"
   ]
  },
  {
   "cell_type": "code",
   "execution_count": 9,
   "metadata": {},
   "outputs": [],
   "source": [
    "train_dataset = PumpDataset(X_train, y_train) \n",
    "test_dataset = PumpDataset(X_test, y_test) "
   ]
  },
  {
   "cell_type": "code",
   "execution_count": 10,
   "metadata": {},
   "outputs": [],
   "source": [
    "train_loader = torch.utils.data.DataLoader(train_dataset, batch_size=4)\n",
    "test_loader = torch.utils.data.DataLoader(test_dataset, batch_size=4)"
   ]
  },
  {
   "cell_type": "code",
   "execution_count": 11,
   "metadata": {},
   "outputs": [],
   "source": [
    "dataiter = iter(train_loader)"
   ]
  },
  {
   "cell_type": "code",
   "execution_count": 12,
   "metadata": {},
   "outputs": [],
   "source": [
    "sample = dataiter.next()"
   ]
  },
  {
   "cell_type": "code",
   "execution_count": 13,
   "metadata": {},
   "outputs": [
    {
     "data": {
      "text/plain": [
       "torch.Size([4])"
      ]
     },
     "execution_count": 13,
     "metadata": {},
     "output_type": "execute_result"
    }
   ],
   "source": [
    "sample['label'].shape"
   ]
  },
  {
   "cell_type": "markdown",
   "metadata": {},
   "source": [
    "### Model"
   ]
  },
  {
   "cell_type": "code",
   "execution_count": 14,
   "metadata": {},
   "outputs": [],
   "source": [
    "class Model(nn.Module):\n",
    "    def __init__(self, in_len=6000, in_channels=1, out_channels=3):\n",
    "        super(Model, self).__init__()\n",
    "        self.in_len = in_len\n",
    "        self.in_channels = in_channels\n",
    "        self.out_channels = out_channels\n",
    "        \n",
    "        self.conv1 = nn.Conv1d(self.in_channels, 64, 10, 5)\n",
    "        self.conv1_bn = nn.BatchNorm1d(64)  #\n",
    "        self.conv2 = nn.Conv1d(64, 64, 2)\n",
    "        self.conv2_bn = nn.BatchNorm1d(64)\n",
    "        self.fc1   = nn.Linear(self.fc_len(), 500)\n",
    "        self.fc1_bn = nn.BatchNorm1d(500)\n",
    "        self.fc2   = nn.Linear(500, 50)\n",
    "        self.fc3   = nn.Linear(50, self.out_channels)\n",
    "\n",
    "    def forward(self, x):        \n",
    "        out = F.relu(self.conv1_bn(self.conv1(x)))\n",
    "        out = F.max_pool1d(out, 2)\n",
    "        out = F.relu(self.conv2_bn(self.conv2(out)))\n",
    "        out = F.max_pool1d(out, 2)\n",
    "        out = out.view(out.size(0), -1)\n",
    "        out = F.relu(self.fc1_bn(self.fc1(out)))\n",
    "        out = F.relu(self.fc2(out))\n",
    "        out = self.fc3(out)\n",
    "        return out\n",
    "\n",
    "    def fc_len(self):\n",
    "        out = (self.in_len-self.conv1.kernel_size[0]+2*self.conv1.padding[0])/self.conv1.stride[0]+1\n",
    "        out = int(out/2)\n",
    "        out = (out-self.conv2.kernel_size[0]+2*self.conv2.padding[0])/self.conv2.stride[0]+1\n",
    "        out = int(out/2)\n",
    "        out = out*self.conv2.out_channels\n",
    "        return out"
   ]
  },
  {
   "cell_type": "markdown",
   "metadata": {},
   "source": [
    "### Train Model"
   ]
  },
  {
   "cell_type": "code",
   "execution_count": 15,
   "metadata": {},
   "outputs": [
    {
     "name": "stdout",
     "output_type": "stream",
     "text": [
      "Starting epoch 1/10.\n",
      "epoch = 1, iteration = 0/496, loss = 1.04709\n",
      "epoch = 1, iteration = 10/496, loss = 0.89541\n",
      "epoch = 1, iteration = 20/496, loss = 0.90364\n",
      "epoch = 1, iteration = 30/496, loss = 0.87356\n",
      "epoch = 1, iteration = 40/496, loss = 0.93136\n",
      "epoch = 1, iteration = 50/496, loss = 0.69184\n",
      "epoch = 1, iteration = 60/496, loss = 0.80142\n",
      "epoch = 1, iteration = 70/496, loss = 0.65269\n",
      "epoch = 1, iteration = 80/496, loss = 0.58188\n",
      "epoch = 1, iteration = 90/496, loss = 0.56397\n",
      "epoch = 1, iteration = 100/496, loss = 0.70081\n",
      "epoch = 1, iteration = 110/496, loss = 0.51749\n",
      "epoch = 1, iteration = 120/496, loss = 0.92320\n",
      "epoch = 1, iteration = 130/496, loss = 0.46889\n",
      "epoch = 1, iteration = 140/496, loss = 0.75706\n",
      "epoch = 1, iteration = 150/496, loss = 0.93462\n",
      "epoch = 1, iteration = 160/496, loss = 0.43608\n",
      "epoch = 1, iteration = 170/496, loss = 0.78393\n",
      "epoch = 1, iteration = 180/496, loss = 0.51509\n",
      "epoch = 1, iteration = 190/496, loss = 0.50405\n",
      "epoch = 1, iteration = 200/496, loss = 1.10835\n",
      "epoch = 1, iteration = 210/496, loss = 0.71268\n",
      "epoch = 1, iteration = 220/496, loss = 0.57752\n",
      "epoch = 1, iteration = 230/496, loss = 0.49423\n",
      "epoch = 1, iteration = 240/496, loss = 0.46599\n",
      "epoch = 1, iteration = 250/496, loss = 0.56900\n",
      "epoch = 1, iteration = 260/496, loss = 0.32973\n",
      "epoch = 1, iteration = 270/496, loss = 0.40693\n",
      "epoch = 1, iteration = 280/496, loss = 0.49931\n",
      "epoch = 1, iteration = 290/496, loss = 0.90986\n",
      "epoch = 1, iteration = 300/496, loss = 0.68475\n",
      "epoch = 1, iteration = 310/496, loss = 0.28134\n",
      "epoch = 1, iteration = 320/496, loss = 0.38410\n",
      "epoch = 1, iteration = 330/496, loss = 0.58944\n",
      "epoch = 1, iteration = 340/496, loss = 0.76959\n",
      "epoch = 1, iteration = 350/496, loss = 0.71959\n",
      "epoch = 1, iteration = 360/496, loss = 0.54075\n",
      "epoch = 1, iteration = 370/496, loss = 0.30277\n",
      "epoch = 1, iteration = 380/496, loss = 0.40267\n",
      "epoch = 1, iteration = 390/496, loss = 0.61421\n",
      "epoch = 1, iteration = 400/496, loss = 0.75125\n",
      "epoch = 1, iteration = 410/496, loss = 0.35589\n",
      "epoch = 1, iteration = 420/496, loss = 0.27391\n",
      "epoch = 1, iteration = 430/496, loss = 0.68633\n",
      "epoch = 1, iteration = 440/496, loss = 0.48769\n",
      "epoch = 1, iteration = 450/496, loss = 0.39114\n",
      "epoch = 1, iteration = 460/496, loss = 0.58179\n",
      "epoch = 1, iteration = 470/496, loss = 0.55699\n",
      "epoch = 1, iteration = 480/496, loss = 0.39861\n",
      "epoch = 1, iteration = 490/496, loss = 0.79229\n",
      "Epoch 0 finished! Loss: 0.6277256538169552. Accuracy: 0.7872983870967742\n",
      "Starting epoch 2/10.\n",
      "epoch = 2, iteration = 0/496, loss = 0.68333\n",
      "epoch = 2, iteration = 10/496, loss = 0.53763\n",
      "epoch = 2, iteration = 20/496, loss = 0.44982\n",
      "epoch = 2, iteration = 30/496, loss = 0.55781\n",
      "epoch = 2, iteration = 40/496, loss = 0.83998\n",
      "epoch = 2, iteration = 50/496, loss = 0.33433\n",
      "epoch = 2, iteration = 60/496, loss = 0.68368\n",
      "epoch = 2, iteration = 70/496, loss = 0.48776\n",
      "epoch = 2, iteration = 80/496, loss = 0.43980\n",
      "epoch = 2, iteration = 90/496, loss = 0.30065\n",
      "epoch = 2, iteration = 100/496, loss = 0.49417\n",
      "epoch = 2, iteration = 110/496, loss = 0.44894\n",
      "epoch = 2, iteration = 120/496, loss = 0.77574\n",
      "epoch = 2, iteration = 130/496, loss = 0.26798\n",
      "epoch = 2, iteration = 140/496, loss = 0.58761\n",
      "epoch = 2, iteration = 150/496, loss = 0.78208\n",
      "epoch = 2, iteration = 160/496, loss = 0.24638\n",
      "epoch = 2, iteration = 170/496, loss = 0.69652\n",
      "epoch = 2, iteration = 180/496, loss = 0.33227\n",
      "epoch = 2, iteration = 190/496, loss = 0.35237\n",
      "epoch = 2, iteration = 200/496, loss = 1.06314\n",
      "epoch = 2, iteration = 210/496, loss = 0.53573\n",
      "epoch = 2, iteration = 220/496, loss = 0.57150\n",
      "epoch = 2, iteration = 230/496, loss = 0.33842\n",
      "epoch = 2, iteration = 240/496, loss = 0.26071\n",
      "epoch = 2, iteration = 250/496, loss = 0.41843\n",
      "epoch = 2, iteration = 260/496, loss = 0.21968\n",
      "epoch = 2, iteration = 270/496, loss = 0.30452\n",
      "epoch = 2, iteration = 280/496, loss = 0.37723\n",
      "epoch = 2, iteration = 290/496, loss = 0.96718\n",
      "epoch = 2, iteration = 300/496, loss = 0.61246\n",
      "epoch = 2, iteration = 310/496, loss = 0.17859\n",
      "epoch = 2, iteration = 320/496, loss = 0.28782\n",
      "epoch = 2, iteration = 330/496, loss = 0.44420\n",
      "epoch = 2, iteration = 340/496, loss = 0.70781\n",
      "epoch = 2, iteration = 350/496, loss = 0.56721\n",
      "epoch = 2, iteration = 360/496, loss = 0.44504\n",
      "epoch = 2, iteration = 370/496, loss = 0.19258\n",
      "epoch = 2, iteration = 380/496, loss = 0.30099\n",
      "epoch = 2, iteration = 390/496, loss = 0.45043\n",
      "epoch = 2, iteration = 400/496, loss = 0.69887\n",
      "epoch = 2, iteration = 410/496, loss = 0.27709\n",
      "epoch = 2, iteration = 420/496, loss = 0.17185\n",
      "epoch = 2, iteration = 430/496, loss = 0.57363\n",
      "epoch = 2, iteration = 440/496, loss = 0.40935\n",
      "epoch = 2, iteration = 450/496, loss = 0.30395\n",
      "epoch = 2, iteration = 460/496, loss = 0.45780\n",
      "epoch = 2, iteration = 470/496, loss = 0.47882\n",
      "epoch = 2, iteration = 480/496, loss = 0.29450\n",
      "epoch = 2, iteration = 490/496, loss = 0.73276\n",
      "Epoch 1 finished! Loss: 0.4854333434141043. Accuracy: 0.8613911290322581\n",
      "Starting epoch 3/10.\n",
      "epoch = 3, iteration = 0/496, loss = 0.59203\n",
      "epoch = 3, iteration = 10/496, loss = 0.48903\n",
      "epoch = 3, iteration = 20/496, loss = 0.36670\n",
      "epoch = 3, iteration = 30/496, loss = 0.45617\n",
      "epoch = 3, iteration = 40/496, loss = 0.83405\n",
      "epoch = 3, iteration = 50/496, loss = 0.24948\n",
      "epoch = 3, iteration = 60/496, loss = 0.58972\n",
      "epoch = 3, iteration = 70/496, loss = 0.42394\n",
      "epoch = 3, iteration = 80/496, loss = 0.41221\n",
      "epoch = 3, iteration = 90/496, loss = 0.21582\n",
      "epoch = 3, iteration = 100/496, loss = 0.42255\n",
      "epoch = 3, iteration = 110/496, loss = 0.36563\n",
      "epoch = 3, iteration = 120/496, loss = 0.76373\n",
      "epoch = 3, iteration = 130/496, loss = 0.18450\n",
      "epoch = 3, iteration = 140/496, loss = 0.50405\n",
      "epoch = 3, iteration = 150/496, loss = 0.67751\n",
      "epoch = 3, iteration = 160/496, loss = 0.16210\n",
      "epoch = 3, iteration = 170/496, loss = 0.61970\n",
      "epoch = 3, iteration = 180/496, loss = 0.25985\n",
      "epoch = 3, iteration = 190/496, loss = 0.27681\n",
      "epoch = 3, iteration = 200/496, loss = 0.91157\n",
      "epoch = 3, iteration = 210/496, loss = 0.39782\n",
      "epoch = 3, iteration = 220/496, loss = 0.56136\n",
      "epoch = 3, iteration = 230/496, loss = 0.24526\n",
      "epoch = 3, iteration = 240/496, loss = 0.18664\n",
      "epoch = 3, iteration = 250/496, loss = 0.31523\n",
      "epoch = 3, iteration = 260/496, loss = 0.17345\n",
      "epoch = 3, iteration = 270/496, loss = 0.22109\n",
      "epoch = 3, iteration = 280/496, loss = 0.29329\n",
      "epoch = 3, iteration = 290/496, loss = 0.98669\n",
      "epoch = 3, iteration = 300/496, loss = 0.53662\n",
      "epoch = 3, iteration = 310/496, loss = 0.13481\n",
      "epoch = 3, iteration = 320/496, loss = 0.23328\n",
      "epoch = 3, iteration = 330/496, loss = 0.37492\n",
      "epoch = 3, iteration = 340/496, loss = 0.61483\n",
      "epoch = 3, iteration = 350/496, loss = 0.49031\n",
      "epoch = 3, iteration = 360/496, loss = 0.37034\n",
      "epoch = 3, iteration = 370/496, loss = 0.15385\n",
      "epoch = 3, iteration = 380/496, loss = 0.22406\n",
      "epoch = 3, iteration = 390/496, loss = 0.35272\n",
      "epoch = 3, iteration = 400/496, loss = 0.64046\n",
      "epoch = 3, iteration = 410/496, loss = 0.19991\n",
      "epoch = 3, iteration = 420/496, loss = 0.11934\n",
      "epoch = 3, iteration = 430/496, loss = 0.47155\n",
      "epoch = 3, iteration = 440/496, loss = 0.37888\n",
      "epoch = 3, iteration = 450/496, loss = 0.25412\n",
      "epoch = 3, iteration = 460/496, loss = 0.37103\n",
      "epoch = 3, iteration = 470/496, loss = 0.43266\n",
      "epoch = 3, iteration = 480/496, loss = 0.25687\n",
      "epoch = 3, iteration = 490/496, loss = 0.71186\n",
      "Epoch 2 finished! Loss: 0.42184700571527384. Accuracy: 0.8850806451612904\n",
      "Starting epoch 4/10.\n",
      "epoch = 4, iteration = 0/496, loss = 0.54889\n",
      "epoch = 4, iteration = 10/496, loss = 0.45700\n",
      "epoch = 4, iteration = 20/496, loss = 0.28954\n",
      "epoch = 4, iteration = 30/496, loss = 0.40478\n",
      "epoch = 4, iteration = 40/496, loss = 0.85490\n",
      "epoch = 4, iteration = 50/496, loss = 0.20158\n",
      "epoch = 4, iteration = 60/496, loss = 0.53159\n",
      "epoch = 4, iteration = 70/496, loss = 0.39482\n",
      "epoch = 4, iteration = 80/496, loss = 0.40607\n",
      "epoch = 4, iteration = 90/496, loss = 0.16382\n",
      "epoch = 4, iteration = 100/496, loss = 0.35669\n",
      "epoch = 4, iteration = 110/496, loss = 0.34678\n",
      "epoch = 4, iteration = 120/496, loss = 0.69769\n",
      "epoch = 4, iteration = 130/496, loss = 0.15409\n",
      "epoch = 4, iteration = 140/496, loss = 0.43050\n",
      "epoch = 4, iteration = 150/496, loss = 0.65417\n",
      "epoch = 4, iteration = 160/496, loss = 0.11833\n",
      "epoch = 4, iteration = 170/496, loss = 0.52656\n",
      "epoch = 4, iteration = 180/496, loss = 0.20866\n"
     ]
    },
    {
     "name": "stdout",
     "output_type": "stream",
     "text": [
      "epoch = 4, iteration = 190/496, loss = 0.22118\n",
      "epoch = 4, iteration = 200/496, loss = 0.77569\n",
      "epoch = 4, iteration = 210/496, loss = 0.32422\n",
      "epoch = 4, iteration = 220/496, loss = 0.57338\n",
      "epoch = 4, iteration = 230/496, loss = 0.19670\n",
      "epoch = 4, iteration = 240/496, loss = 0.14040\n",
      "epoch = 4, iteration = 250/496, loss = 0.24500\n",
      "epoch = 4, iteration = 260/496, loss = 0.14160\n",
      "epoch = 4, iteration = 270/496, loss = 0.17766\n",
      "epoch = 4, iteration = 280/496, loss = 0.23143\n",
      "epoch = 4, iteration = 290/496, loss = 1.01373\n",
      "epoch = 4, iteration = 300/496, loss = 0.46619\n",
      "epoch = 4, iteration = 310/496, loss = 0.10407\n",
      "epoch = 4, iteration = 320/496, loss = 0.18434\n",
      "epoch = 4, iteration = 330/496, loss = 0.31523\n",
      "epoch = 4, iteration = 340/496, loss = 0.54185\n",
      "epoch = 4, iteration = 350/496, loss = 0.43386\n",
      "epoch = 4, iteration = 360/496, loss = 0.30882\n",
      "epoch = 4, iteration = 370/496, loss = 0.10497\n",
      "epoch = 4, iteration = 380/496, loss = 0.21194\n",
      "epoch = 4, iteration = 390/496, loss = 0.29861\n",
      "epoch = 4, iteration = 400/496, loss = 0.59973\n",
      "epoch = 4, iteration = 410/496, loss = 0.16727\n",
      "epoch = 4, iteration = 420/496, loss = 0.08914\n",
      "epoch = 4, iteration = 430/496, loss = 0.38243\n",
      "epoch = 4, iteration = 440/496, loss = 0.30394\n",
      "epoch = 4, iteration = 450/496, loss = 0.20375\n",
      "epoch = 4, iteration = 460/496, loss = 0.32876\n",
      "epoch = 4, iteration = 470/496, loss = 0.35899\n",
      "epoch = 4, iteration = 480/496, loss = 0.21580\n",
      "epoch = 4, iteration = 490/496, loss = 0.70630\n",
      "Epoch 3 finished! Loss: 0.37426925727514304. Accuracy: 0.9017137096774194\n",
      "Starting epoch 5/10.\n",
      "epoch = 5, iteration = 0/496, loss = 0.43261\n",
      "epoch = 5, iteration = 10/496, loss = 0.41230\n",
      "epoch = 5, iteration = 20/496, loss = 0.23059\n",
      "epoch = 5, iteration = 30/496, loss = 0.33569\n",
      "epoch = 5, iteration = 40/496, loss = 0.87047\n",
      "epoch = 5, iteration = 50/496, loss = 0.16186\n",
      "epoch = 5, iteration = 60/496, loss = 0.49393\n",
      "epoch = 5, iteration = 70/496, loss = 0.31263\n",
      "epoch = 5, iteration = 80/496, loss = 0.34592\n",
      "epoch = 5, iteration = 90/496, loss = 0.11979\n",
      "epoch = 5, iteration = 100/496, loss = 0.31763\n",
      "epoch = 5, iteration = 110/496, loss = 0.33183\n",
      "epoch = 5, iteration = 120/496, loss = 0.73926\n",
      "epoch = 5, iteration = 130/496, loss = 0.11478\n",
      "epoch = 5, iteration = 140/496, loss = 0.42070\n",
      "epoch = 5, iteration = 150/496, loss = 0.61747\n",
      "epoch = 5, iteration = 160/496, loss = 0.08469\n",
      "epoch = 5, iteration = 170/496, loss = 0.45063\n",
      "epoch = 5, iteration = 180/496, loss = 0.17526\n",
      "epoch = 5, iteration = 190/496, loss = 0.16833\n",
      "epoch = 5, iteration = 200/496, loss = 0.71945\n",
      "epoch = 5, iteration = 210/496, loss = 0.26209\n",
      "epoch = 5, iteration = 220/496, loss = 0.56799\n",
      "epoch = 5, iteration = 230/496, loss = 0.15486\n",
      "epoch = 5, iteration = 240/496, loss = 0.11734\n",
      "epoch = 5, iteration = 250/496, loss = 0.19287\n",
      "epoch = 5, iteration = 260/496, loss = 0.11000\n",
      "epoch = 5, iteration = 270/496, loss = 0.14567\n",
      "epoch = 5, iteration = 280/496, loss = 0.19357\n",
      "epoch = 5, iteration = 290/496, loss = 1.04054\n",
      "epoch = 5, iteration = 300/496, loss = 0.42704\n",
      "epoch = 5, iteration = 310/496, loss = 0.08815\n",
      "epoch = 5, iteration = 320/496, loss = 0.15566\n",
      "epoch = 5, iteration = 330/496, loss = 0.28854\n",
      "epoch = 5, iteration = 340/496, loss = 0.48965\n",
      "epoch = 5, iteration = 350/496, loss = 0.39490\n",
      "epoch = 5, iteration = 360/496, loss = 0.28547\n",
      "epoch = 5, iteration = 370/496, loss = 0.07894\n",
      "epoch = 5, iteration = 380/496, loss = 0.17077\n",
      "epoch = 5, iteration = 390/496, loss = 0.25322\n",
      "epoch = 5, iteration = 400/496, loss = 0.57501\n",
      "epoch = 5, iteration = 410/496, loss = 0.14950\n",
      "epoch = 5, iteration = 420/496, loss = 0.06701\n",
      "epoch = 5, iteration = 430/496, loss = 0.32149\n",
      "epoch = 5, iteration = 440/496, loss = 0.28117\n",
      "epoch = 5, iteration = 450/496, loss = 0.17248\n",
      "epoch = 5, iteration = 460/496, loss = 0.28866\n",
      "epoch = 5, iteration = 470/496, loss = 0.34104\n",
      "epoch = 5, iteration = 480/496, loss = 0.19174\n",
      "epoch = 5, iteration = 490/496, loss = 0.73380\n",
      "Epoch 4 finished! Loss: 0.3415243132397382. Accuracy: 0.9057459677419355\n",
      "Starting epoch 6/10.\n",
      "epoch = 6, iteration = 0/496, loss = 0.42705\n",
      "epoch = 6, iteration = 10/496, loss = 0.38374\n",
      "epoch = 6, iteration = 20/496, loss = 0.22050\n",
      "epoch = 6, iteration = 30/496, loss = 0.30188\n",
      "epoch = 6, iteration = 40/496, loss = 0.92247\n",
      "epoch = 6, iteration = 50/496, loss = 0.13316\n",
      "epoch = 6, iteration = 60/496, loss = 0.45898\n",
      "epoch = 6, iteration = 70/496, loss = 0.26760\n",
      "epoch = 6, iteration = 80/496, loss = 0.31825\n",
      "epoch = 6, iteration = 90/496, loss = 0.09710\n",
      "epoch = 6, iteration = 100/496, loss = 0.28004\n",
      "epoch = 6, iteration = 110/496, loss = 0.29451\n",
      "epoch = 6, iteration = 120/496, loss = 0.72736\n",
      "epoch = 6, iteration = 130/496, loss = 0.08767\n",
      "epoch = 6, iteration = 140/496, loss = 0.45035\n",
      "epoch = 6, iteration = 150/496, loss = 0.55224\n",
      "epoch = 6, iteration = 160/496, loss = 0.06273\n",
      "epoch = 6, iteration = 170/496, loss = 0.36268\n",
      "epoch = 6, iteration = 180/496, loss = 0.15830\n",
      "epoch = 6, iteration = 190/496, loss = 0.14349\n",
      "epoch = 6, iteration = 200/496, loss = 0.63370\n",
      "epoch = 6, iteration = 210/496, loss = 0.21603\n",
      "epoch = 6, iteration = 220/496, loss = 0.60886\n",
      "epoch = 6, iteration = 230/496, loss = 0.11589\n",
      "epoch = 6, iteration = 240/496, loss = 0.08778\n",
      "epoch = 6, iteration = 250/496, loss = 0.15135\n",
      "epoch = 6, iteration = 260/496, loss = 0.10394\n",
      "epoch = 6, iteration = 270/496, loss = 0.11913\n",
      "epoch = 6, iteration = 280/496, loss = 0.17549\n",
      "epoch = 6, iteration = 290/496, loss = 1.03220\n",
      "epoch = 6, iteration = 300/496, loss = 0.40232\n",
      "epoch = 6, iteration = 310/496, loss = 0.07921\n",
      "epoch = 6, iteration = 320/496, loss = 0.12496\n",
      "epoch = 6, iteration = 330/496, loss = 0.28289\n",
      "epoch = 6, iteration = 340/496, loss = 0.48831\n",
      "epoch = 6, iteration = 350/496, loss = 0.34681\n",
      "epoch = 6, iteration = 360/496, loss = 0.22169\n",
      "epoch = 6, iteration = 370/496, loss = 0.07099\n",
      "epoch = 6, iteration = 380/496, loss = 0.14770\n",
      "epoch = 6, iteration = 390/496, loss = 0.22155\n",
      "epoch = 6, iteration = 400/496, loss = 0.57928\n",
      "epoch = 6, iteration = 410/496, loss = 0.12046\n",
      "epoch = 6, iteration = 420/496, loss = 0.05140\n",
      "epoch = 6, iteration = 430/496, loss = 0.30232\n",
      "epoch = 6, iteration = 440/496, loss = 0.24745\n",
      "epoch = 6, iteration = 450/496, loss = 0.15165\n",
      "epoch = 6, iteration = 460/496, loss = 0.25640\n",
      "epoch = 6, iteration = 470/496, loss = 0.27366\n",
      "epoch = 6, iteration = 480/496, loss = 0.16309\n",
      "epoch = 6, iteration = 490/496, loss = 0.70259\n",
      "Epoch 5 finished! Loss: 0.3085998417978937. Accuracy: 0.920866935483871\n",
      "Starting epoch 7/10.\n",
      "epoch = 7, iteration = 0/496, loss = 0.38562\n",
      "epoch = 7, iteration = 10/496, loss = 0.35558\n",
      "epoch = 7, iteration = 20/496, loss = 0.18572\n",
      "epoch = 7, iteration = 30/496, loss = 0.27111\n",
      "epoch = 7, iteration = 40/496, loss = 0.93847\n",
      "epoch = 7, iteration = 50/496, loss = 0.11633\n",
      "epoch = 7, iteration = 60/496, loss = 0.43774\n",
      "epoch = 7, iteration = 70/496, loss = 0.24050\n",
      "epoch = 7, iteration = 80/496, loss = 0.29355\n",
      "epoch = 7, iteration = 90/496, loss = 0.08097\n",
      "epoch = 7, iteration = 100/496, loss = 0.23485\n",
      "epoch = 7, iteration = 110/496, loss = 0.27553\n",
      "epoch = 7, iteration = 120/496, loss = 0.68928\n",
      "epoch = 7, iteration = 130/496, loss = 0.06725\n",
      "epoch = 7, iteration = 140/496, loss = 0.37118\n",
      "epoch = 7, iteration = 150/496, loss = 0.52775\n",
      "epoch = 7, iteration = 160/496, loss = 0.04554\n",
      "epoch = 7, iteration = 170/496, loss = 0.29892\n",
      "epoch = 7, iteration = 180/496, loss = 0.13277\n",
      "epoch = 7, iteration = 190/496, loss = 0.10818\n",
      "epoch = 7, iteration = 200/496, loss = 0.56942\n",
      "epoch = 7, iteration = 210/496, loss = 0.16645\n",
      "epoch = 7, iteration = 220/496, loss = 0.63621\n",
      "epoch = 7, iteration = 230/496, loss = 0.09339\n",
      "epoch = 7, iteration = 240/496, loss = 0.07321\n",
      "epoch = 7, iteration = 250/496, loss = 0.11605\n",
      "epoch = 7, iteration = 260/496, loss = 0.08350\n",
      "epoch = 7, iteration = 270/496, loss = 0.09842\n",
      "epoch = 7, iteration = 280/496, loss = 0.14763\n",
      "epoch = 7, iteration = 290/496, loss = 1.01305\n",
      "epoch = 7, iteration = 300/496, loss = 0.33530\n",
      "epoch = 7, iteration = 310/496, loss = 0.06469\n",
      "epoch = 7, iteration = 320/496, loss = 0.09900\n",
      "epoch = 7, iteration = 330/496, loss = 0.24784\n",
      "epoch = 7, iteration = 340/496, loss = 0.44207\n",
      "epoch = 7, iteration = 350/496, loss = 0.31760\n",
      "epoch = 7, iteration = 360/496, loss = 0.20134\n",
      "epoch = 7, iteration = 370/496, loss = 0.05723\n",
      "epoch = 7, iteration = 380/496, loss = 0.13703\n"
     ]
    },
    {
     "name": "stdout",
     "output_type": "stream",
     "text": [
      "epoch = 7, iteration = 390/496, loss = 0.18598\n",
      "epoch = 7, iteration = 400/496, loss = 0.53743\n",
      "epoch = 7, iteration = 410/496, loss = 0.09686\n",
      "epoch = 7, iteration = 420/496, loss = 0.04421\n",
      "epoch = 7, iteration = 430/496, loss = 0.26183\n",
      "epoch = 7, iteration = 440/496, loss = 0.23957\n",
      "epoch = 7, iteration = 450/496, loss = 0.13116\n",
      "epoch = 7, iteration = 460/496, loss = 0.22616\n",
      "epoch = 7, iteration = 470/496, loss = 0.24010\n",
      "epoch = 7, iteration = 480/496, loss = 0.14867\n",
      "epoch = 7, iteration = 490/496, loss = 0.72031\n",
      "Epoch 6 finished! Loss: 0.2830395247147541. Accuracy: 0.9284274193548387\n",
      "Starting epoch 8/10.\n",
      "epoch = 8, iteration = 0/496, loss = 0.34814\n",
      "epoch = 8, iteration = 10/496, loss = 0.33066\n",
      "epoch = 8, iteration = 20/496, loss = 0.17137\n",
      "epoch = 8, iteration = 30/496, loss = 0.23245\n",
      "epoch = 8, iteration = 40/496, loss = 0.96725\n",
      "epoch = 8, iteration = 50/496, loss = 0.10566\n",
      "epoch = 8, iteration = 60/496, loss = 0.42269\n",
      "epoch = 8, iteration = 70/496, loss = 0.21564\n",
      "epoch = 8, iteration = 80/496, loss = 0.26784\n",
      "epoch = 8, iteration = 90/496, loss = 0.06771\n",
      "epoch = 8, iteration = 100/496, loss = 0.23201\n",
      "epoch = 8, iteration = 110/496, loss = 0.27794\n",
      "epoch = 8, iteration = 120/496, loss = 0.68144\n",
      "epoch = 8, iteration = 130/496, loss = 0.05894\n",
      "epoch = 8, iteration = 140/496, loss = 0.38038\n",
      "epoch = 8, iteration = 150/496, loss = 0.49370\n",
      "epoch = 8, iteration = 160/496, loss = 0.04055\n",
      "epoch = 8, iteration = 170/496, loss = 0.22843\n",
      "epoch = 8, iteration = 180/496, loss = 0.11654\n",
      "epoch = 8, iteration = 190/496, loss = 0.09382\n",
      "epoch = 8, iteration = 200/496, loss = 0.56045\n",
      "epoch = 8, iteration = 210/496, loss = 0.15502\n",
      "epoch = 8, iteration = 220/496, loss = 0.64805\n",
      "epoch = 8, iteration = 230/496, loss = 0.07385\n",
      "epoch = 8, iteration = 240/496, loss = 0.05864\n",
      "epoch = 8, iteration = 250/496, loss = 0.09799\n",
      "epoch = 8, iteration = 260/496, loss = 0.07303\n",
      "epoch = 8, iteration = 270/496, loss = 0.08703\n",
      "epoch = 8, iteration = 280/496, loss = 0.13873\n",
      "epoch = 8, iteration = 290/496, loss = 0.98997\n",
      "epoch = 8, iteration = 300/496, loss = 0.27227\n",
      "epoch = 8, iteration = 310/496, loss = 0.06389\n",
      "epoch = 8, iteration = 320/496, loss = 0.08047\n",
      "epoch = 8, iteration = 330/496, loss = 0.20698\n",
      "epoch = 8, iteration = 340/496, loss = 0.47128\n",
      "epoch = 8, iteration = 350/496, loss = 0.26369\n",
      "epoch = 8, iteration = 360/496, loss = 0.17605\n",
      "epoch = 8, iteration = 370/496, loss = 0.05636\n",
      "epoch = 8, iteration = 380/496, loss = 0.10023\n",
      "epoch = 8, iteration = 390/496, loss = 0.16425\n",
      "epoch = 8, iteration = 400/496, loss = 0.55162\n",
      "epoch = 8, iteration = 410/496, loss = 0.08315\n",
      "epoch = 8, iteration = 420/496, loss = 0.03478\n",
      "epoch = 8, iteration = 430/496, loss = 0.20160\n",
      "epoch = 8, iteration = 440/496, loss = 0.21422\n",
      "epoch = 8, iteration = 450/496, loss = 0.10700\n",
      "epoch = 8, iteration = 460/496, loss = 0.19897\n",
      "epoch = 8, iteration = 470/496, loss = 0.20371\n",
      "epoch = 8, iteration = 480/496, loss = 0.12368\n",
      "epoch = 8, iteration = 490/496, loss = 0.72000\n",
      "Epoch 7 finished! Loss: 0.26320138297448253. Accuracy: 0.9329637096774194\n",
      "Starting epoch 9/10.\n",
      "epoch = 9, iteration = 0/496, loss = 0.30205\n",
      "epoch = 9, iteration = 10/496, loss = 0.28206\n",
      "epoch = 9, iteration = 20/496, loss = 0.15463\n",
      "epoch = 9, iteration = 30/496, loss = 0.22940\n",
      "epoch = 9, iteration = 40/496, loss = 1.00065\n",
      "epoch = 9, iteration = 50/496, loss = 0.08740\n",
      "epoch = 9, iteration = 60/496, loss = 0.40534\n",
      "epoch = 9, iteration = 70/496, loss = 0.18710\n",
      "epoch = 9, iteration = 80/496, loss = 0.26660\n",
      "epoch = 9, iteration = 90/496, loss = 0.05399\n",
      "epoch = 9, iteration = 100/496, loss = 0.17997\n",
      "epoch = 9, iteration = 110/496, loss = 0.22299\n",
      "epoch = 9, iteration = 120/496, loss = 0.66770\n",
      "epoch = 9, iteration = 130/496, loss = 0.05675\n",
      "epoch = 9, iteration = 140/496, loss = 0.35648\n",
      "epoch = 9, iteration = 150/496, loss = 0.39777\n",
      "epoch = 9, iteration = 160/496, loss = 0.03119\n",
      "epoch = 9, iteration = 170/496, loss = 0.18295\n",
      "epoch = 9, iteration = 180/496, loss = 0.10408\n",
      "epoch = 9, iteration = 190/496, loss = 0.07797\n",
      "epoch = 9, iteration = 200/496, loss = 0.51724\n",
      "epoch = 9, iteration = 210/496, loss = 0.12611\n",
      "epoch = 9, iteration = 220/496, loss = 0.67309\n",
      "epoch = 9, iteration = 230/496, loss = 0.05749\n",
      "epoch = 9, iteration = 240/496, loss = 0.05399\n",
      "epoch = 9, iteration = 250/496, loss = 0.07357\n",
      "epoch = 9, iteration = 260/496, loss = 0.06334\n",
      "epoch = 9, iteration = 270/496, loss = 0.06570\n",
      "epoch = 9, iteration = 280/496, loss = 0.11694\n",
      "epoch = 9, iteration = 290/496, loss = 0.95545\n",
      "epoch = 9, iteration = 300/496, loss = 0.24334\n",
      "epoch = 9, iteration = 310/496, loss = 0.05972\n",
      "epoch = 9, iteration = 320/496, loss = 0.07277\n",
      "epoch = 9, iteration = 330/496, loss = 0.19250\n",
      "epoch = 9, iteration = 340/496, loss = 0.38431\n",
      "epoch = 9, iteration = 350/496, loss = 0.24340\n",
      "epoch = 9, iteration = 360/496, loss = 0.15122\n",
      "epoch = 9, iteration = 370/496, loss = 0.05334\n",
      "epoch = 9, iteration = 380/496, loss = 0.09176\n",
      "epoch = 9, iteration = 390/496, loss = 0.14217\n",
      "epoch = 9, iteration = 400/496, loss = 0.54550\n",
      "epoch = 9, iteration = 410/496, loss = 0.07305\n",
      "epoch = 9, iteration = 420/496, loss = 0.02889\n",
      "epoch = 9, iteration = 430/496, loss = 0.16266\n",
      "epoch = 9, iteration = 440/496, loss = 0.19817\n",
      "epoch = 9, iteration = 450/496, loss = 0.10906\n",
      "epoch = 9, iteration = 460/496, loss = 0.17009\n",
      "epoch = 9, iteration = 470/496, loss = 0.19855\n",
      "epoch = 9, iteration = 480/496, loss = 0.13040\n",
      "epoch = 9, iteration = 490/496, loss = 0.72309\n",
      "Epoch 8 finished! Loss: 0.2415311182275264. Accuracy: 0.9380040322580645\n",
      "Starting epoch 10/10.\n",
      "epoch = 10, iteration = 0/496, loss = 0.31356\n",
      "epoch = 10, iteration = 10/496, loss = 0.24573\n",
      "epoch = 10, iteration = 20/496, loss = 0.13898\n",
      "epoch = 10, iteration = 30/496, loss = 0.21619\n",
      "epoch = 10, iteration = 40/496, loss = 0.97343\n",
      "epoch = 10, iteration = 50/496, loss = 0.07855\n",
      "epoch = 10, iteration = 60/496, loss = 0.39740\n",
      "epoch = 10, iteration = 70/496, loss = 0.16801\n",
      "epoch = 10, iteration = 80/496, loss = 0.23572\n",
      "epoch = 10, iteration = 90/496, loss = 0.04955\n",
      "epoch = 10, iteration = 100/496, loss = 0.17386\n",
      "epoch = 10, iteration = 110/496, loss = 0.21755\n",
      "epoch = 10, iteration = 120/496, loss = 0.61171\n",
      "epoch = 10, iteration = 130/496, loss = 0.03956\n",
      "epoch = 10, iteration = 140/496, loss = 0.35773\n",
      "epoch = 10, iteration = 150/496, loss = 0.42631\n",
      "epoch = 10, iteration = 160/496, loss = 0.02616\n",
      "epoch = 10, iteration = 170/496, loss = 0.15105\n",
      "epoch = 10, iteration = 180/496, loss = 0.09323\n",
      "epoch = 10, iteration = 190/496, loss = 0.06052\n",
      "epoch = 10, iteration = 200/496, loss = 0.52159\n",
      "epoch = 10, iteration = 210/496, loss = 0.10468\n",
      "epoch = 10, iteration = 220/496, loss = 0.62840\n",
      "epoch = 10, iteration = 230/496, loss = 0.04725\n",
      "epoch = 10, iteration = 240/496, loss = 0.04677\n",
      "epoch = 10, iteration = 250/496, loss = 0.06351\n",
      "epoch = 10, iteration = 260/496, loss = 0.04844\n",
      "epoch = 10, iteration = 270/496, loss = 0.05967\n",
      "epoch = 10, iteration = 280/496, loss = 0.09931\n",
      "epoch = 10, iteration = 290/496, loss = 0.85823\n",
      "epoch = 10, iteration = 300/496, loss = 0.25210\n",
      "epoch = 10, iteration = 310/496, loss = 0.04703\n",
      "epoch = 10, iteration = 320/496, loss = 0.05780\n",
      "epoch = 10, iteration = 330/496, loss = 0.15924\n",
      "epoch = 10, iteration = 340/496, loss = 0.36940\n",
      "epoch = 10, iteration = 350/496, loss = 0.22353\n",
      "epoch = 10, iteration = 360/496, loss = 0.12913\n",
      "epoch = 10, iteration = 370/496, loss = 0.03670\n",
      "epoch = 10, iteration = 380/496, loss = 0.08398\n",
      "epoch = 10, iteration = 390/496, loss = 0.12609\n",
      "epoch = 10, iteration = 400/496, loss = 0.54619\n",
      "epoch = 10, iteration = 410/496, loss = 0.06467\n",
      "epoch = 10, iteration = 420/496, loss = 0.02264\n",
      "epoch = 10, iteration = 430/496, loss = 0.13644\n",
      "epoch = 10, iteration = 440/496, loss = 0.18049\n",
      "epoch = 10, iteration = 450/496, loss = 0.09804\n",
      "epoch = 10, iteration = 460/496, loss = 0.15486\n",
      "epoch = 10, iteration = 470/496, loss = 0.17346\n",
      "epoch = 10, iteration = 480/496, loss = 0.13456\n",
      "epoch = 10, iteration = 490/496, loss = 0.71408\n",
      "Epoch 9 finished! Loss: 0.22835736640098722. Accuracy: 0.9440524193548387\n"
     ]
    }
   ],
   "source": [
    "len_sequences = X_train.shape[2]\n",
    "n_classes = len(np.unique(y))\n",
    "model = Model(len_sequences, in_channels=len(channels), out_channels=n_classes)\n",
    "model.train()\n",
    "\n",
    "criterion = nn.CrossEntropyLoss()\n",
    "optimizer = torch.optim.Adam(model.parameters(), lr=1e-5, weight_decay=1e-5)\n",
    "\n",
    "epochs = 10\n",
    "for epoch in range(epochs):\n",
    "    \n",
    "    print('Starting epoch {}/{}.'.format(epoch + 1, epochs))\n",
    "    epoch_loss = 0\n",
    "    correct = 0\n",
    "\n",
    "    for i, sample_batch in enumerate(train_loader):\n",
    "        \n",
    "        sequences = sample_batch['sequence']\n",
    "        true_labels = sample_batch['label']\n",
    "\n",
    "        pred_labels = model(sequences)\n",
    "        \n",
    "        _, predicted = torch.max(pred_labels, 1)\n",
    "        correct += (predicted == true_labels).float().sum()\n",
    "\n",
    "        loss = criterion(pred_labels, true_labels)\n",
    "        epoch_loss += loss.item()\n",
    "        \n",
    "        if i%10 == 0:\n",
    "            print(f'epoch = {epoch+1:d}, iteration = {i:d}/{len(train_loader):d}, loss = {loss.item():.5f}')\n",
    "        \n",
    "        optimizer.zero_grad()\n",
    "        loss.backward()\n",
    "        optimizer.step()\n",
    "        \n",
    "    print(f'Epoch {epoch} finished! Loss: {epoch_loss/i}. Accuracy: {correct.item()/len(train_dataset)}')\n",
    "\n"
   ]
  },
  {
   "cell_type": "markdown",
   "metadata": {},
   "source": [
    "### Model Evaluation"
   ]
  },
  {
   "cell_type": "code",
   "execution_count": 16,
   "metadata": {},
   "outputs": [],
   "source": [
    "model.eval()\n",
    "\n",
    "true_labels = []\n",
    "pred_labels = []\n",
    "\n",
    "for i, sample_batch in enumerate(test_loader):\n",
    "    \n",
    "    sequences = sample_batch['sequence']\n",
    "    true_batch = sample_batch['label']\n",
    "    \n",
    "    outputs = model(sequences)\n",
    "    _, pred_batch = torch.max(outputs, 1)\n",
    "    \n",
    "    true_labels.append(true_batch.detach().numpy())\n",
    "    pred_labels.append(pred_batch.detach().numpy())\n",
    "\n",
    "true_labels = np.concatenate(true_labels)\n",
    "pred_labels = np.concatenate(pred_labels)"
   ]
  },
  {
   "cell_type": "code",
   "execution_count": 17,
   "metadata": {},
   "outputs": [
    {
     "name": "stdout",
     "output_type": "stream",
     "text": [
      "0.9683257918552036\n",
      "[[69  4  0]\n",
      " [ 3 71  0]\n",
      " [ 0  0 74]]\n",
      "              precision    recall  f1-score   support\n",
      "\n",
      "           0       0.96      0.95      0.95        73\n",
      "           1       0.95      0.96      0.95        74\n",
      "           2       1.00      1.00      1.00        74\n",
      "\n",
      "    accuracy                           0.97       221\n",
      "   macro avg       0.97      0.97      0.97       221\n",
      "weighted avg       0.97      0.97      0.97       221\n",
      "\n"
     ]
    }
   ],
   "source": [
    "acc = (true_labels==pred_labels).sum()/len(true_labels)\n",
    "cm = confusion_matrix(true_labels, pred_labels)\n",
    "cr = classification_report(true_labels, pred_labels)\n",
    "print(acc)\n",
    "print(cm)\n",
    "print(cr)"
   ]
  },
  {
   "cell_type": "code",
   "execution_count": 18,
   "metadata": {},
   "outputs": [
    {
     "data": {
      "text/plain": [
       "<sklearn.metrics._plot.confusion_matrix.ConfusionMatrixDisplay at 0x7fc22880f650>"
      ]
     },
     "execution_count": 18,
     "metadata": {},
     "output_type": "execute_result"
    },
    {
     "data": {
      "image/png": "[encoded data removed]",
      "text/plain": [
       "<Figure size 432x288 with 2 Axes>"
      ]
     },
     "metadata": {
      "needs_background": "light"
     },
     "output_type": "display_data"
    }
   ],
   "source": [
    "ConfusionMatrixDisplay(cm, [0,1,2]).plot()"
   ]
  },
  {
   "cell_type": "markdown",
   "metadata": {},
   "source": [
    "### Visualize feature space with t-SNE"
   ]
  },
  {
   "cell_type": "code",
   "execution_count": 19,
   "metadata": {},
   "outputs": [],
   "source": [
    "class FeatureExtractor(nn.Module):\n",
    "    def __init__(self, model):\n",
    "        super(FeatureExtractor,self).__init__()\n",
    "        self.model = model\n",
    "\n",
    "    def forward(self, x):\n",
    "        out = F.relu(model.conv1_bn(model.conv1(x)))\n",
    "        out = F.max_pool1d(out, 2)\n",
    "        out = F.relu(model.conv2_bn(model.conv2(out)))\n",
    "        out = F.max_pool1d(out, 2)\n",
    "        out = out.view(out.size(0), -1)\n",
    "        out = F.relu(model.fc1_bn(model.fc1(out)))\n",
    "        out = F.relu(model.fc2(out))\n",
    "#         out = model.fc3(out)\n",
    "        return out"
   ]
  },
  {
   "cell_type": "code",
   "execution_count": 20,
   "metadata": {},
   "outputs": [
    {
     "data": {
      "text/plain": [
       "FeatureExtractor(\n",
       "  (model): Model(\n",
       "    (conv1): Conv1d(6, 64, kernel_size=(10,), stride=(5,))\n",
       "    (conv1_bn): BatchNorm1d(64, eps=1e-05, momentum=0.1, affine=True, track_running_stats=True)\n",
       "    (conv2): Conv1d(64, 64, kernel_size=(2,), stride=(1,))\n",
       "    (conv2_bn): BatchNorm1d(64, eps=1e-05, momentum=0.1, affine=True, track_running_stats=True)\n",
       "    (fc1): Linear(in_features=19136, out_features=500, bias=True)\n",
       "    (fc1_bn): BatchNorm1d(500, eps=1e-05, momentum=0.1, affine=True, track_running_stats=True)\n",
       "    (fc2): Linear(in_features=500, out_features=50, bias=True)\n",
       "    (fc3): Linear(in_features=50, out_features=3, bias=True)\n",
       "  )\n",
       ")"
      ]
     },
     "execution_count": 20,
     "metadata": {},
     "output_type": "execute_result"
    }
   ],
   "source": [
    "feature_extractor = FeatureExtractor(model)\n",
    "feature_extractor.eval()"
   ]
  },
  {
   "cell_type": "code",
   "execution_count": 21,
   "metadata": {},
   "outputs": [],
   "source": [
    "features = []\n",
    "labels = []\n",
    "\n",
    "for i, sample_batch in enumerate(train_loader):\n",
    "    \n",
    "    sequences = sample_batch['sequence']\n",
    "    true_batch = sample_batch['label']\n",
    "    \n",
    "    outputs = feature_extractor(sequences)\n",
    "    features.append(outputs.detach().numpy())\n",
    "    labels.append(true_batch.detach().numpy())\n",
    "\n",
    "features = np.concatenate(features)\n",
    "labels = np.concatenate(labels)"
   ]
  },
  {
   "cell_type": "code",
   "execution_count": 22,
   "metadata": {},
   "outputs": [],
   "source": [
    "from sklearn.manifold import TSNE\n",
    "tsne = TSNE().fit_transform(features)\n",
    "tx, ty = tsne[:,0], tsne[:,1]\n",
    "tx = (tx-np.min(tx)) / (np.max(tx) - np.min(tx))\n",
    "ty = (ty-np.min(ty)) / (np.max(ty) - np.min(ty))"
   ]
  },
  {
   "cell_type": "code",
   "execution_count": 23,
   "metadata": {},
   "outputs": [
    {
     "data": {
      "text/plain": [
       "<matplotlib.collections.PathCollection at 0x7fc209478390>"
      ]
     },
     "execution_count": 23,
     "metadata": {},
     "output_type": "execute_result"
    },
    {
     "data": {
      "image/png": "[encoded data removed]",
      "text/plain": [
       "<Figure size 576x576 with 1 Axes>"
      ]
     },
     "metadata": {
      "needs_background": "light"
     },
     "output_type": "display_data"
    }
   ],
   "source": [
    "colors_labels = ['b', 'r', 'g', 'm']\n",
    "colors = [colors_labels[label] for label in labels]\n",
    "fig, ax = plt.subplots(1, 1, figsize=(8, 8))\n",
    "ax.scatter(tx, ty, color=colors)"
   ]
  },
  {
   "cell_type": "markdown",
   "metadata": {},
   "source": [
    "The plot suggests that more classes are needed, so we will try a multichannel multitask approach"
   ]
  },
  {
   "cell_type": "code",
   "execution_count": null,
   "metadata": {},
   "outputs": [],
   "source": []
  }
 ],
 "metadata": {
  "kernelspec": {
   "display_name": "Python 3",
   "language": "python",
   "name": "python3"
  },
  "language_info": {
   "codemirror_mode": {
    "name": "ipython",
    "version": 3
   },
   "file_extension": ".py",
   "mimetype": "text/x-python",
   "name": "python",
   "nbconvert_exporter": "python",
   "pygments_lexer": "ipython3",
   "version": "3.7.5"
  }
 },
 "nbformat": 4,
 "nbformat_minor": 4
}
