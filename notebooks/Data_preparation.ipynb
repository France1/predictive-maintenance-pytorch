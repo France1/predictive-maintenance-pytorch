{
 "cells": [
  {
   "cell_type": "markdown",
   "metadata": {},
   "source": [
    "# Data preparation code \n",
    "\n",
    "Development of functions contained in `data_preparation` module and sensor channel selection"
   ]
  },
  {
   "cell_type": "code",
   "execution_count": 3,
   "metadata": {},
   "outputs": [],
   "source": [
    "import matplotlib.pyplot as plt\n",
    "import numpy as np\n",
    "import os\n",
    "import pickle\n",
    "import copy\n",
    "from natsort import natsorted\n",
    "from sklearn.preprocessing import StandardScaler\n",
    "from scipy.interpolate import interp1d\n",
    "import pandas as pd\n",
    "import seaborn as sns"
   ]
  },
  {
   "cell_type": "markdown",
   "metadata": {},
   "source": [
    "#### Select files containing data"
   ]
  },
  {
   "cell_type": "code",
   "execution_count": 4,
   "metadata": {},
   "outputs": [
    {
     "name": "stdout",
     "output_type": "stream",
     "text": [
      "['CE.txt', 'CP.txt', 'EPS1.txt', 'FS1.txt', 'FS2.txt', 'PS1.txt', 'PS2.txt', 'PS3.txt', 'PS4.txt', 'PS5.txt', 'PS6.txt', 'SE.txt', 'TS1.txt', 'TS2.txt', 'TS3.txt', 'TS4.txt', 'VS1.txt', 'profile.txt']\n"
     ]
    }
   ],
   "source": [
    "data_dir = '<path-to-dataset>'\n",
    "\n",
    "file_list = os.listdir(data_dir)\n",
    "file_list.remove('documentation.txt')\n",
    "file_list.remove('description.txt')\n",
    "file_list = natsorted(file_list)\n",
    "\n",
    "print(file_list)"
   ]
  },
  {
   "cell_type": "markdown",
   "metadata": {},
   "source": [
    "#### Load files into dictionary"
   ]
  },
  {
   "cell_type": "code",
   "execution_count": 5,
   "metadata": {},
   "outputs": [
    {
     "name": "stdout",
     "output_type": "stream",
     "text": [
      "CE.txt\n",
      "CP.txt\n",
      "EPS1.txt\n",
      "FS1.txt\n",
      "FS2.txt\n",
      "PS1.txt\n",
      "PS2.txt\n",
      "PS3.txt\n",
      "PS4.txt\n",
      "PS5.txt\n",
      "PS6.txt\n",
      "SE.txt\n",
      "TS1.txt\n",
      "TS2.txt\n",
      "TS3.txt\n",
      "TS4.txt\n",
      "VS1.txt\n",
      "profile.txt\n"
     ]
    }
   ],
   "source": [
    "data = {}\n",
    "\n",
    "for file in file_list:\n",
    "    print(file)\n",
    "    data[file[:-4]] = np.loadtxt(os.path.join(data_dir, file))"
   ]
  },
  {
   "cell_type": "markdown",
   "metadata": {},
   "source": [
    "#### Covert condition levels into condition labels"
   ]
  },
  {
   "cell_type": "code",
   "execution_count": 6,
   "metadata": {},
   "outputs": [
    {
     "data": {
      "text/plain": [
       "array([[  3., 100.,   0., 130.,   1.],\n",
       "       [  3., 100.,   0., 130.,   1.],\n",
       "       [  3., 100.,   0., 130.,   1.],\n",
       "       ...,\n",
       "       [100., 100.,   0.,  90.,   0.],\n",
       "       [100., 100.,   0.,  90.,   0.],\n",
       "       [100., 100.,   0.,  90.,   0.]])"
      ]
     },
     "execution_count": 6,
     "metadata": {},
     "output_type": "execute_result"
    }
   ],
   "source": [
    "labels = []\n",
    "for i in range(4):\n",
    "    label_i = data['profile'][:,i].astype(int)\n",
    "    for j,val in enumerate(np.sort(np.unique(label_i))):\n",
    "        label_i[label_i==val] = j\n",
    "    labels.append(label_i.reshape(-1,1))\n",
    "labels = np.concatenate(labels, axis=1)\n",
    "data['labels'] = labels\n",
    "data.pop('profile', None)"
   ]
  },
  {
   "cell_type": "markdown",
   "metadata": {},
   "source": [
    "#### Interpolate sequences to unique sampling"
   ]
  },
  {
   "cell_type": "code",
   "execution_count": 7,
   "metadata": {},
   "outputs": [],
   "source": [
    "t = 60 # cycle duration [s]\n",
    "n_i = 6000\n",
    "x_i = np.linspace(0,t,n_i)\n",
    "\n",
    "data_int = {}\n",
    "channels = [c for c in data.keys() if c!='labels']\n",
    "for channel in [key for key in channels if 'condition' not in key]:\n",
    "    if data[channel].shape[1] != n_i:\n",
    "        x = np.linspace(0,t,len(data[channel][0]))\n",
    "        Y = data[channel]\n",
    "        f = interp1d(x, Y, kind='linear')\n",
    "        Y_i = f(x_i)\n",
    "        data_int[channel] = Y_i\n",
    "    else:\n",
    "        data_int[channel] = data[channel]"
   ]
  },
  {
   "cell_type": "markdown",
   "metadata": {},
   "source": [
    "#### Scale data\n",
    "Combine all sequence for the same sensor togheter for more effective transformation and correlation"
   ]
  },
  {
   "cell_type": "code",
   "execution_count": 8,
   "metadata": {},
   "outputs": [],
   "source": [
    "df = pd.DataFrame({k: v.reshape(-1,1).squeeze() for k,v in data_int.items()})\n",
    "array = StandardScaler().fit_transform(df)\n",
    "df_scaled = pd.DataFrame(data=array, columns=df.columns)"
   ]
  },
  {
   "cell_type": "markdown",
   "metadata": {},
   "source": [
    "#### Eliminate sensors that are highly correlated between each other\n",
    "A simple trail and error approach is used to filter out sensors with a correlation above a threshold of 95%"
   ]
  },
  {
   "cell_type": "code",
   "execution_count": 9,
   "metadata": {},
   "outputs": [],
   "source": [
    "eliminate = ['TS1','TS2','TS3','TS4','PS6','EPS1','CE','FS2']\n",
    "df_scaled = df_scaled[[col for col in df_scaled.columns if col not in eliminate]]\n",
    "corr = df_scaled.corr()"
   ]
  },
  {
   "cell_type": "code",
   "execution_count": 10,
   "metadata": {},
   "outputs": [
    {
     "data": {
      "text/plain": [
       "<matplotlib.axes._subplots.AxesSubplot at 0x7f9198492a50>"
      ]
     },
     "execution_count": 10,
     "metadata": {},
     "output_type": "execute_result"
    },
    {
     "data": {
      "image/png": "[encoded data removed]",
      "text/plain": [
       "<Figure size 720x720 with 2 Axes>"
      ]
     },
     "metadata": {
      "needs_background": "light"
     },
     "output_type": "display_data"
    }
   ],
   "source": [
    "mask = (corr>0.95) | (corr<-.95)\n",
    "# corr = corr[mask]\n",
    "f, ax = plt.subplots(figsize=(10, 10))\n",
    "sns.heatmap(corr, mask=np.zeros_like(corr, dtype=np.bool), cmap=sns.diverging_palette(220, 10, as_cmap=True),\n",
    "            square=True, ax=ax)"
   ]
  },
  {
   "cell_type": "markdown",
   "metadata": {},
   "source": [
    "Visualise an example of two sensors that are moderatly correlated"
   ]
  },
  {
   "cell_type": "code",
   "execution_count": 11,
   "metadata": {},
   "outputs": [
    {
     "data": {
      "text/plain": [
       "[<matplotlib.lines.Line2D at 0x7f91984924d0>]"
      ]
     },
     "execution_count": 11,
     "metadata": {},
     "output_type": "execute_result"
    },
    {
     "data": {
      "image/png": "[encoded data removed]",
      "text/plain": [
       "<Figure size 1440x360 with 1 Axes>"
      ]
     },
     "metadata": {
      "needs_background": "light"
     },
     "output_type": "display_data"
    }
   ],
   "source": [
    "fig, ax = plt.subplots(1, 1, figsize=(20, 5))\n",
    "ax.plot(df_scaled['PS1'].values[:10000], 'b')\n",
    "ax.plot(df_scaled['SE'].values[:10000], 'r')"
   ]
  }
 ],
 "metadata": {
  "kernelspec": {
   "display_name": "Python 3",
   "language": "python",
   "name": "python3"
  },
  "language_info": {
   "codemirror_mode": {
    "name": "ipython",
    "version": 3
   },
   "file_extension": ".py",
   "mimetype": "text/x-python",
   "name": "python",
   "nbconvert_exporter": "python",
   "pygments_lexer": "ipython3",
   "version": "3.7.5"
  }
 },
 "nbformat": 4,
 "nbformat_minor": 4
}
